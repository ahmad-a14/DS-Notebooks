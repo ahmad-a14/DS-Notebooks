{
 "cells": [
  {
   "cell_type": "markdown",
   "metadata": {},
   "source": [
    "# Practical Machine learning walkthrough\n"
   ]
  },
  {
   "cell_type": "markdown",
   "metadata": {},
   "source": [
    "### Scikit-learn training and testing model\n",
    "<img src=\"supervised_workflow.svg\" width=\"50%\">"
   ]
  },
  {
   "cell_type": "markdown",
   "metadata": {},
   "source": [
    "### Loading the Iris Data with Scikit-learn\n",
    "\n",
    "Taken from the [UCI machine learning repository](http://archive.ics.uci.edu/ml/), which hosts many of the commonly used datasets that are useful for benchmarking machine learning algorithms -- a very popular resource for machine learning practioners and researchers. Conveniently, some of these datasets are already included in scikit-learn.\n",
    "\n",
    "For example, scikit-learn has a very straightforward set of data on these iris species.  The data consist of\n",
    "the following:\n",
    "\n",
    "- Features in the Iris dataset:\n",
    "\n",
    "  1. sepal length in cm\n",
    "  2. sepal width in cm\n",
    "  3. petal length in cm\n",
    "  4. petal width in cm\n",
    "\n",
    "- Target classes to predict:\n",
    "\n",
    "  1. Iris Setosa\n",
    "  2. Iris Versicolour\n",
    "  3. Iris Virginica\n",
    "  \n",
    "  <img src=\"petal_sepal.jpg\" alt=\"Sepal\" style=\"width: 50%;\"/>\n",
    "\n",
    "(Image: \"Petal-sepal\". Licensed under CC BY-SA 3.0 via Wikimedia Commons - https://commons.wikimedia.org/wiki/File:Petal-sepal.jpg#/media/File:Petal-sepal.jpg)"
   ]
  },
  {
   "cell_type": "code",
   "execution_count": 1,
   "metadata": {},
   "outputs": [
    {
     "data": {
      "text/plain": [
       "sklearn.utils.Bunch"
      ]
     },
     "execution_count": 1,
     "metadata": {},
     "output_type": "execute_result"
    }
   ],
   "source": [
    "from sklearn.datasets import load_iris\n",
    "# save \"bunch\" object containing iris dataset and its attributes\n",
    "iris = load_iris()\n",
    "type(iris)"
   ]
  },
  {
   "cell_type": "code",
   "execution_count": 2,
   "metadata": {},
   "outputs": [
    {
     "name": "stdout",
     "output_type": "stream",
     "text": [
      "['sepal length (cm)', 'sepal width (cm)', 'petal length (cm)', 'petal width (cm)']\n"
     ]
    }
   ],
   "source": [
    "# print the names of the four features\n",
    "print(iris.feature_names)\n",
    "# print the iris data\n",
    "#print (iris.data)"
   ]
  },
  {
   "cell_type": "code",
   "execution_count": 3,
   "metadata": {},
   "outputs": [
    {
     "name": "stdout",
     "output_type": "stream",
     "text": [
      "['setosa' 'versicolor' 'virginica']\n",
      "[0 0 0 0 0 0 0 0 0 0 0 0 0 0 0 0 0 0 0 0 0 0 0 0 0 0 0 0 0 0 0 0 0 0 0 0 0\n",
      " 0 0 0 0 0 0 0 0 0 0 0 0 0 1 1 1 1 1 1 1 1 1 1 1 1 1 1 1 1 1 1 1 1 1 1 1 1\n",
      " 1 1 1 1 1 1 1 1 1 1 1 1 1 1 1 1 1 1 1 1 1 1 1 1 1 1 2 2 2 2 2 2 2 2 2 2 2\n",
      " 2 2 2 2 2 2 2 2 2 2 2 2 2 2 2 2 2 2 2 2 2 2 2 2 2 2 2 2 2 2 2 2 2 2 2 2 2\n",
      " 2 2]\n"
     ]
    }
   ],
   "source": [
    "# print the encoding scheme for species: 0 = setosa, 1 = versicolor, 2 = virginica\n",
    "print(iris.target_names)\n",
    "# print integers representing the species of each observation\n",
    "print(iris.target)"
   ]
  },
  {
   "cell_type": "code",
   "execution_count": 4,
   "metadata": {},
   "outputs": [
    {
     "name": "stdout",
     "output_type": "stream",
     "text": [
      "<class 'numpy.ndarray'>\n",
      "<class 'numpy.ndarray'>\n"
     ]
    }
   ],
   "source": [
    "# check the types of the features and response\n",
    "print(type(iris.data))\n",
    "print(type(iris.target))"
   ]
  },
  {
   "cell_type": "code",
   "execution_count": 5,
   "metadata": {},
   "outputs": [
    {
     "name": "stdout",
     "output_type": "stream",
     "text": [
      "(150, 4)\n",
      "(150,)\n"
     ]
    }
   ],
   "source": [
    "# check the shape of the features (first dimension = number of observations, second dimensions = number of features)\n",
    "print(iris.data.shape)\n",
    "# check the shape of the response (single dimension matching the number of observations)\n",
    "print(iris.target.shape)"
   ]
  },
  {
   "cell_type": "code",
   "execution_count": 2,
   "metadata": {},
   "outputs": [],
   "source": [
    "# store feature matrix in \"X\"\n",
    "X = iris.data\n",
    "\n",
    "# store response vector in \"y\"\n",
    "y = iris.target"
   ]
  },
  {
   "cell_type": "code",
   "execution_count": 3,
   "metadata": {},
   "outputs": [
    {
     "name": "stderr",
     "output_type": "stream",
     "text": [
      "C:\\Users\\TOSHIBA\\anaconda3\\lib\\site-packages\\sklearn\\utils\\deprecation.py:86: FutureWarning: Function make_blobs is deprecated; Please import make_blobs directly from scikit-learn\n",
      "  warnings.warn(msg, category=FutureWarning)\n"
     ]
    },
    {
     "data": {
      "image/png": "[encoded data removed]",
      "text/plain": [
       "<Figure size 432x288 with 1 Axes>"
      ]
     },
     "metadata": {
      "needs_background": "light"
     },
     "output_type": "display_data"
    }
   ],
   "source": [
    "%matplotlib inline\n",
    "import mglearn\n",
    "mglearn.plots.plot_knn_classification(n_neighbors=3)"
   ]
  },
  {
   "cell_type": "code",
   "execution_count": 4,
   "metadata": {},
   "outputs": [
    {
     "name": "stdout",
     "output_type": "stream",
     "text": [
      "0.96\n"
     ]
    }
   ],
   "source": [
    "from sklearn.neighbors import KNeighborsClassifier\n",
    "from sklearn import metrics\n",
    "\n",
    "knn = KNeighborsClassifier(n_neighbors=3)\n",
    "#print (knn)\n",
    "knn.fit(X, y)\n",
    "\n",
    "# y_pred = knn.predict(X)\n",
    "# print(metrics.accuracy_score(y, y_pred))\n",
    "\n",
    "print(knn.score(X, y))"
   ]
  },
  {
   "cell_type": "markdown",
   "metadata": {},
   "source": [
    "# Splitting data into Training and Testing set"
   ]
  },
  {
   "cell_type": "code",
   "execution_count": 6,
   "metadata": {},
   "outputs": [],
   "source": [
    "from sklearn.model_selection import train_test_split"
   ]
  },
  {
   "cell_type": "code",
   "execution_count": 6,
   "metadata": {},
   "outputs": [
    {
     "data": {
      "text/plain": [
       "KNeighborsClassifier(n_neighbors=7)"
      ]
     },
     "execution_count": 6,
     "metadata": {},
     "output_type": "execute_result"
    }
   ],
   "source": [
    "X_train, X_test, y_train, y_test = train_test_split(X, y, stratify=y, random_state=40)\n",
    "knn = KNeighborsClassifier(n_neighbors=7)\n",
    "knn.fit(X_train, y_train)"
   ]
  },
  {
   "cell_type": "code",
   "execution_count": 15,
   "metadata": {},
   "outputs": [
    {
     "name": "stdout",
     "output_type": "stream",
     "text": [
      "Accuracy of KNN n-5, on the Testing set: 1.000\n"
     ]
    }
   ],
   "source": [
    "y_pred = knn.predict(X_test)\n",
    "print('Accuracy of KNN n-5, on the Testing set: {:.3f}'.format(metrics.accuracy_score(y_test, y_pred)))"
   ]
  },
  {
   "cell_type": "code",
   "execution_count": 16,
   "metadata": {},
   "outputs": [
    {
     "name": "stdout",
     "output_type": "stream",
     "text": [
      "Accuracy of KNN n-5, on the training set: 0.964\n"
     ]
    }
   ],
   "source": [
    "y_pred = knn.predict(X_train)\n",
    "print('Accuracy of KNN n-5, on the training set: {:.3f}'.format(metrics.accuracy_score(y_train, y_pred)))"
   ]
  },
  {
   "cell_type": "markdown",
   "metadata": {},
   "source": [
    "# Cross Validation"
   ]
  },
  {
   "cell_type": "code",
   "execution_count": 17,
   "metadata": {},
   "outputs": [
    {
     "data": {
      "image/png": "[encoded data removed]",
      "text/plain": [
       "<Figure size 864x144 with 1 Axes>"
      ]
     },
     "metadata": {
      "needs_background": "light"
     },
     "output_type": "display_data"
    }
   ],
   "source": [
    "mglearn.plots.plot_cross_validation()"
   ]
  },
  {
   "cell_type": "code",
   "execution_count": 8,
   "metadata": {},
   "outputs": [
    {
     "name": "stdout",
     "output_type": "stream",
     "text": [
      "cross-validation scores:  [0.96666667 0.96666667 0.93333333 0.93333333 1.        ]\n",
      "Mean Cross-validation score:  0.96\n"
     ]
    },
    {
     "data": {
      "text/plain": [
       "numpy.ndarray"
      ]
     },
     "execution_count": 8,
     "metadata": {},
     "output_type": "execute_result"
    }
   ],
   "source": [
    "from sklearn.model_selection import cross_val_score\n",
    "scores = cross_val_score(knn, iris.data, iris.target)\n",
    "print(\"cross-validation scores: \", scores)\n",
    "print (\"Mean Cross-validation score: \", scores.mean())\n",
    "type(scores)"
   ]
  },
  {
   "cell_type": "code",
   "execution_count": 20,
   "metadata": {},
   "outputs": [
    {
     "name": "stdout",
     "output_type": "stream",
     "text": [
      "cross-validation scores:  [1.         0.93333333 1.         1.         0.86666667 0.93333333\n",
      " 0.93333333 1.         1.         1.        ]\n"
     ]
    }
   ],
   "source": [
    "scores = cross_val_score(knn, iris.data, iris.target, cv=10)\n",
    "print(\"cross-validation scores: \", scores)\n",
    "#scores.mean()"
   ]
  },
  {
   "cell_type": "markdown",
   "metadata": {},
   "source": [
    "# Stratified K-Fold cross-validation"
   ]
  },
  {
   "cell_type": "code",
   "execution_count": 21,
   "metadata": {},
   "outputs": [
    {
     "name": "stdout",
     "output_type": "stream",
     "text": [
      "[0 0 0 0 0 0 0 0 0 0 0 0 0 0 0 0 0 0 0 0 0 0 0 0 0 0 0 0 0 0 0 0 0 0 0 0 0\n",
      " 0 0 0 0 0 0 0 0 0 0 0 0 0 1 1 1 1 1 1 1 1 1 1 1 1 1 1 1 1 1 1 1 1 1 1 1 1\n",
      " 1 1 1 1 1 1 1 1 1 1 1 1 1 1 1 1 1 1 1 1 1 1 1 1 1 1 2 2 2 2 2 2 2 2 2 2 2\n",
      " 2 2 2 2 2 2 2 2 2 2 2 2 2 2 2 2 2 2 2 2 2 2 2 2 2 2 2 2 2 2 2 2 2 2 2 2 2\n",
      " 2 2]\n"
     ]
    }
   ],
   "source": [
    "#from sklearn.datasets import load_iris\n",
    "iris = load_iris()\n",
    "print(iris.target)"
   ]
  },
  {
   "cell_type": "code",
   "execution_count": 17,
   "metadata": {},
   "outputs": [
    {
     "data": {
      "image/png": "[encoded data removed]",
      "text/plain": [
       "<Figure size 864x360 with 2 Axes>"
      ]
     },
     "metadata": {
      "needs_background": "light"
     },
     "output_type": "display_data"
    }
   ],
   "source": [
    "#% matplotlib inline\n",
    "mglearn.plots.plot_stratified_cross_validation()"
   ]
  },
  {
   "cell_type": "markdown",
   "metadata": {},
   "source": [
    "# Improving a model using hypermeters\n",
    "----\n",
    "Using neighbors = [1,2,3 . . . 20] \n",
    "\n",
    "Using weight_options = ['uniform', 'distance'] \n",
    "\n",
    "Using weight_options = ['uniform', 'distance'] and n_neighbors = [1,2,3 . . . 20] "
   ]
  },
  {
   "cell_type": "code",
   "execution_count": 8,
   "metadata": {},
   "outputs": [
    {
     "name": "stdout",
     "output_type": "stream",
     "text": [
      "For neighbour =  1 -- Training accuracy 1.0 === testing accuracy 0.9736842105263158\n",
      "For neighbour =  2 -- Training accuracy 0.9821428571428571 === testing accuracy 0.9473684210526315\n",
      "For neighbour =  3 -- Training accuracy 0.9553571428571429 === testing accuracy 0.9736842105263158\n",
      "For neighbour =  4 -- Training accuracy 0.9553571428571429 === testing accuracy 0.9736842105263158\n",
      "For neighbour =  5 -- Training accuracy 0.9642857142857143 === testing accuracy 0.9736842105263158\n",
      "For neighbour =  6 -- Training accuracy 0.9642857142857143 === testing accuracy 0.9736842105263158\n",
      "For neighbour =  7 -- Training accuracy 0.9642857142857143 === testing accuracy 1.0\n",
      "For neighbour =  8 -- Training accuracy 0.9821428571428571 === testing accuracy 1.0\n",
      "For neighbour =  9 -- Training accuracy 0.9821428571428571 === testing accuracy 1.0\n",
      "For neighbour =  10 -- Training accuracy 0.9732142857142857 === testing accuracy 1.0\n",
      "For neighbour =  11 -- Training accuracy 0.9821428571428571 === testing accuracy 1.0\n",
      "For neighbour =  12 -- Training accuracy 0.9821428571428571 === testing accuracy 1.0\n",
      "For neighbour =  13 -- Training accuracy 0.9732142857142857 === testing accuracy 1.0\n",
      "For neighbour =  14 -- Training accuracy 0.9553571428571429 === testing accuracy 0.9736842105263158\n",
      "For neighbour =  15 -- Training accuracy 0.9732142857142857 === testing accuracy 1.0\n",
      "For neighbour =  16 -- Training accuracy 0.9732142857142857 === testing accuracy 1.0\n",
      "For neighbour =  17 -- Training accuracy 0.9732142857142857 === testing accuracy 1.0\n",
      "For neighbour =  18 -- Training accuracy 0.9642857142857143 === testing accuracy 1.0\n",
      "For neighbour =  19 -- Training accuracy 0.9642857142857143 === testing accuracy 1.0\n",
      "For neighbour =  20 -- Training accuracy 0.9464285714285714 === testing accuracy 0.9736842105263158\n"
     ]
    }
   ],
   "source": [
    "X_train, X_test, y_train, y_test = train_test_split(X, y, stratify=y, random_state=40)\n",
    "# Define a range of 1 to 21 (included) neighbors to be tested\n",
    "neighbors_settings = range(1,21)\n",
    "for n in neighbors_settings:\n",
    "    clf = KNeighborsClassifier(n_neighbors=n)\n",
    "    clf.fit(X_train, y_train)\n",
    "    print ('For neighbour = ', n,'--', 'Training accuracy', clf.score(X_train, y_train), '===', 'testing accuracy', clf.score(X_test, y_test))"
   ]
  },
  {
   "cell_type": "code",
   "execution_count": 9,
   "metadata": {},
   "outputs": [
    {
     "data": {
      "text/plain": [
       "<matplotlib.legend.Legend at 0x29798c74bb0>"
      ]
     },
     "execution_count": 9,
     "metadata": {},
     "output_type": "execute_result"
    },
    {
     "data": {
      "image/png": "[encoded data removed]",
      "text/plain": [
       "<Figure size 432x288 with 1 Axes>"
      ]
     },
     "metadata": {
      "needs_background": "light"
     },
     "output_type": "display_data"
    }
   ],
   "source": [
    "import matplotlib.pyplot as plt\n",
    "# Resplit the data, with a different randomization (inspired by Muller & Guido ML book - https://www.amazon.com/dp/1449369413/)\n",
    "X_train, X_test, y_train, y_test = train_test_split(X, y, stratify=y, random_state=40)\n",
    "\n",
    "# Create two lists for training and test accuracies\n",
    "training_accuracy = []\n",
    "test_accuracy = []\n",
    "\n",
    "# Define a range of 1 to 31 (included) neighbors to be tested\n",
    "neighbors_settings = range(1,31)\n",
    "\n",
    "# Loop with the KNN through the different number of neighbors to determine the most appropriate (best)\n",
    "for n_neighbors in neighbors_settings:\n",
    "    clf = KNeighborsClassifier(n_neighbors=n_neighbors)\n",
    "    clf.fit(X_train, y_train)\n",
    "    training_accuracy.append(clf.score(X_train, y_train))\n",
    "    test_accuracy.append(clf.score(X_test, y_test))\n",
    "\n",
    "# Visualize results - to help with deciding which n_neigbors yields the best results (n_neighbors=6, in this case)\n",
    "plt.plot(neighbors_settings, training_accuracy, label='Accuracy of the training set')\n",
    "plt.plot(neighbors_settings, test_accuracy, label='Accuracy of the test set')\n",
    "plt.ylabel('Accuracy')\n",
    "plt.xlabel('Number of Neighbors')\n",
    "plt.legend()"
   ]
  },
  {
   "cell_type": "code",
   "execution_count": 10,
   "metadata": {},
   "outputs": [
    {
     "name": "stdout",
     "output_type": "stream",
     "text": [
      "For Weight option =  uniform -- Training accuracy 0.9642857142857143 === testing accuracy 0.9736842105263158\n",
      "For Weight option =  distance -- Training accuracy 1.0 === testing accuracy 0.9736842105263158\n"
     ]
    }
   ],
   "source": [
    "X_train, X_test, y_train, y_test = train_test_split(X, y, stratify=y, random_state=40)\n",
    "\n",
    "weight_options = ['uniform', 'distance']\n",
    "for w in weight_options:\n",
    "    clf = KNeighborsClassifier(weights=w)\n",
    "    clf.fit(X_train, y_train)\n",
    "    print ('For Weight option = ', w,'--', 'Training accuracy', clf.score(X_train, y_train), '===', 'testing accuracy', clf.score(X_test, y_test))\n",
    "    "
   ]
  },
  {
   "cell_type": "code",
   "execution_count": 11,
   "metadata": {},
   "outputs": [
    {
     "name": "stdout",
     "output_type": "stream",
     "text": [
      "Size of training set: 112, size of test set: 38\n",
      "best score:  1.0\n",
      "best parameters:  {'n_neighbors': 3, 'weights': 'uniform'}\n"
     ]
    }
   ],
   "source": [
    "# naive grid search implementation using Neighbour and Weights\n",
    "X_train, X_test, y_train, y_test = train_test_split(iris.data, iris.target, stratify=iris.target, random_state=0)\n",
    "print(\"Size of training set: %d, size of test set: %d\" % (X_train.shape[0], X_test.shape[0]))\n",
    "best_score = 0\n",
    "for n in [1,2,3,4,5,6,7,8,9,10]:\n",
    "    for w in ['uniform', 'distance']:\n",
    "        # for each combination of parameters\n",
    "        # train an knn\n",
    "        knn = KNeighborsClassifier(n_neighbors= n,weights=w)\n",
    "        knn.fit(X_train, y_train)\n",
    "        # evaluate the knn on the test set\n",
    "        score = knn.score(X_test, y_test)\n",
    "        # if we got a better score, store the score and parameters\n",
    "        if score > best_score:\n",
    "            best_score = score\n",
    "            best_parameters = {'n_neighbors': n, 'weights': w}\n",
    "print(\"best score: \", best_score)\n",
    "print(\"best parameters: \", best_parameters)\n"
   ]
  },
  {
   "cell_type": "markdown",
   "metadata": {},
   "source": [
    "# The danger of overfitting the parameters and the validation set"
   ]
  },
  {
   "cell_type": "code",
   "execution_count": 22,
   "metadata": {},
   "outputs": [
    {
     "name": "stdout",
     "output_type": "stream",
     "text": [
      "threefold_split\n"
     ]
    },
    {
     "data": {
      "image/png": "[encoded data removed]",
      "text/plain": [
       "<Figure size 1080x72 with 1 Axes>"
      ]
     },
     "metadata": {
      "needs_background": "light"
     },
     "output_type": "display_data"
    }
   ],
   "source": [
    "print(\"threefold_split\")\n",
    "mglearn.plots.plot_threefold_split()"
   ]
  },
  {
   "cell_type": "code",
   "execution_count": 23,
   "metadata": {},
   "outputs": [
    {
     "name": "stdout",
     "output_type": "stream",
     "text": [
      "Size of training set: 84 size of validation set: 28 size of test set: 38\n"
     ]
    }
   ],
   "source": [
    "X_trainval, X_test, y_trainval, y_test = train_test_split(iris.data, iris.target,stratify=iris.target, random_state=0)\n",
    "# split train+validation set into training and validation set\n",
    "X_train, X_valid, y_train, y_valid = train_test_split(X_trainval, y_trainval, random_state=1)\n",
    "print(\"Size of training set: %d size of validation set: %d size of test set: %d\" % (X_train.shape[0], X_valid.shape[0], X_test.shape[0]))\n"
   ]
  },
  {
   "cell_type": "code",
   "execution_count": 24,
   "metadata": {},
   "outputs": [
    {
     "name": "stdout",
     "output_type": "stream",
     "text": [
      "best score on validation set:  1.0\n",
      "best parameters:  {'n_neighbors': 9, 'weights': 'uniform'}\n",
      "test set score with best parameters:  1.0\n"
     ]
    }
   ],
   "source": [
    "best_score = 0\n",
    "for n in [1,2,3,4,5,6,7,8,9,10]:\n",
    "    for w in ['uniform', 'distance']:\n",
    "        # for each combination of parameters\n",
    "        # train an KNN\n",
    "        knn = KNeighborsClassifier(n_neighbors= n,weights=w)\n",
    "        knn.fit(X_train, y_train)\n",
    "        # evaluate the knn on the test set\n",
    "        score = knn.score(X_valid, y_valid)\n",
    "        # if we got a better score, store the score and parameters\n",
    "        if score > best_score:\n",
    "            best_score = score\n",
    "            best_parameters = {'n_neighbors': n, 'weights': w}\n",
    "# rebuild a model on the combined training and validation set, and evaluate it on the test set\n",
    "knn = KNeighborsClassifier(**best_parameters)\n",
    "knn.fit(X_trainval, y_trainval)\n",
    "test_score = knn.score(X_test, y_test)\n",
    "print(\"best score on validation set: \", best_score)\n",
    "print(\"best parameters: \", best_parameters)\n",
    "print(\"test set score with best parameters: \", test_score)"
   ]
  },
  {
   "cell_type": "markdown",
   "metadata": {},
   "source": [
    "# Model improvement using hyperparameter tuning with cross-validation\n",
    "----\n",
    "For a better estimate of the generalization performance,\n",
    "instead of using a single split into a training and a validation set, we can use crossvalidation\n",
    "to evaluate the performance of each parameter combination."
   ]
  },
  {
   "cell_type": "code",
   "execution_count": 9,
   "metadata": {},
   "outputs": [
    {
     "name": "stdout",
     "output_type": "stream",
     "text": [
      "best score on validation set:  0.9466403162055336\n",
      "best parameters:  {'n_neighbors': 3, 'weights': 'uniform'}\n",
      "test set score with best parameters:  1.0\n"
     ]
    }
   ],
   "source": [
    "import numpy as np\n",
    "X_trainval, X_test, y_trainval, y_test = train_test_split(iris.data, iris.target, stratify=iris.target, random_state=0)\n",
    "best_score = 0\n",
    "for n in [1,2,3,4,5,6,7,8,9,10]:\n",
    "    for w in ['uniform', 'distance']:\n",
    "        # for each combination of parameters\n",
    "        # train an KNN\n",
    "        knn = KNeighborsClassifier(n_neighbors= n,weights=w)\n",
    "        # perform cross-validation\n",
    "        scores = cross_val_score(knn, X_trainval, y_trainval, cv=5)\n",
    "        # compute mean cross-validation accuracy\n",
    "        score = np.mean(scores)\n",
    "        # if we got a better score, store the score and parameters\n",
    "        if score > best_score:\n",
    "            best_score = score\n",
    "            best_parameters = {'n_neighbors': n, 'weights': w}\n",
    "# rebuild a model on the combined training and validation set, and evaluate it on the test set\n",
    "knn = KNeighborsClassifier(**best_parameters)\n",
    "knn.fit(X_trainval, y_trainval)\n",
    "test_score = knn.score(X_test, y_test)\n",
    "print(\"best score on validation set: \", best_score)\n",
    "print(\"best parameters: \", best_parameters)\n",
    "print(\"test set score with best parameters: \", test_score)\n"
   ]
  },
  {
   "cell_type": "markdown",
   "metadata": {},
   "source": [
    "Trained Models Count?"
   ]
  },
  {
   "cell_type": "markdown",
   "metadata": {},
   "source": [
    "# GridSearchCV (A meta classifier)\n",
    "----\n",
    "To use the GridSearchCV class, you first need to specify the\n",
    "parameters you want to search over using a dictionary. GridSearchCV will then perform\n",
    "all the necessary model fits. The keys of the dictionary are the names of parameters\n",
    "we want to adjust"
   ]
  },
  {
   "cell_type": "code",
   "execution_count": 10,
   "metadata": {},
   "outputs": [
    {
     "name": "stdout",
     "output_type": "stream",
     "text": [
      "{'n_neighbors': [1, 2, 3, 4, 5, 6, 7, 8, 9, 10], 'weights': ['uniform', 'distance']}\n"
     ]
    }
   ],
   "source": [
    "param_grid = {'n_neighbors':[1,2,3,4,5,6,7,8,9,10], 'weights':['uniform', 'distance']}\n",
    "print (param_grid)"
   ]
  },
  {
   "cell_type": "code",
   "execution_count": 11,
   "metadata": {},
   "outputs": [
    {
     "data": {
      "text/plain": [
       "GridSearchCV(cv=5, estimator=KNeighborsClassifier(),\n",
       "             param_grid={'n_neighbors': [1, 2, 3, 4, 5, 6, 7, 8, 9, 10],\n",
       "                         'weights': ['uniform', 'distance']})"
      ]
     },
     "execution_count": 11,
     "metadata": {},
     "output_type": "execute_result"
    }
   ],
   "source": [
    "from sklearn.model_selection import GridSearchCV\n",
    "X_train, X_test, y_train, y_test = train_test_split(iris.data, iris.target, stratify=iris.target, random_state=0)\n",
    "\n",
    "grid_search = GridSearchCV(KNeighborsClassifier(), param_grid, cv=5)\n",
    "grid_search.fit(X_train, y_train)\n"
   ]
  },
  {
   "cell_type": "markdown",
   "metadata": {},
   "source": [
    "Fitting the GridSearchCV object not only searches for the best parameters, it also\n",
    "automatically fits a new model on the whole training dataset with the parameters that\n",
    "yielded the best cross-validation performance."
   ]
  },
  {
   "cell_type": "code",
   "execution_count": 12,
   "metadata": {},
   "outputs": [
    {
     "data": {
      "text/plain": [
       "1.0"
      ]
     },
     "execution_count": 12,
     "metadata": {},
     "output_type": "execute_result"
    }
   ],
   "source": [
    "grid_search.score(X_test, y_test)"
   ]
  },
  {
   "cell_type": "markdown",
   "metadata": {},
   "source": [
    "Choosing the parameters using cross-validation, we actually found a model that achieves\n",
    "100% accuracy on the test set. The important part here is that we did not use the\n",
    "test set to choose the parameters.\n",
    "\n",
    "The parameters that were found are scored in the best_params_ attribute, and the\n",
    "best cross-validation accuracy (the mean accuracy over the different splits for this\n",
    "parameter setting) is stored in best_score_:"
   ]
  },
  {
   "cell_type": "code",
   "execution_count": 13,
   "metadata": {},
   "outputs": [
    {
     "name": "stdout",
     "output_type": "stream",
     "text": [
      "{'n_neighbors': 3, 'weights': 'uniform'}\n",
      "0.9466403162055336\n"
     ]
    }
   ],
   "source": [
    "print(grid_search.best_params_)\n",
    "print(grid_search.best_score_)"
   ]
  },
  {
   "cell_type": "markdown",
   "metadata": {},
   "source": [
    "Again, be careful not to confuse best_score_ with the generalization performance of\n",
    "the model as computed by the score method on the test set. Using the score method\n",
    "(or evaluating the output of the predict method) employs a model trained on the\n",
    "whole training set. The best_score_ attribute stores the mean validation crossvalidation\n",
    "accuracy, with cross-validation performed on the training set.\n",
    "\n",
    "Sometimes it is helpful to have access to the actual model that was found, for example\n",
    "to look at coefficients or feature importances. You can access the model with the best\n",
    "parameters trained on the whole training set using the best_estimator_ attribute.\n",
    "\n",
    "Because grid_search itself has predict and score methods, using best_estimator_\n",
    "is not needed to make predictions or evaluate the model."
   ]
  },
  {
   "cell_type": "code",
   "execution_count": 30,
   "metadata": {},
   "outputs": [
    {
     "data": {
      "text/plain": [
       "KNeighborsClassifier(algorithm='auto', leaf_size=30, metric='minkowski',\n",
       "           metric_params=None, n_jobs=1, n_neighbors=3, p=2,\n",
       "           weights='uniform')"
      ]
     },
     "execution_count": 30,
     "metadata": {},
     "output_type": "execute_result"
    }
   ],
   "source": [
    "grid_search.best_estimator_"
   ]
  },
  {
   "cell_type": "markdown",
   "metadata": {},
   "source": [
    "# Analyzing the results of cross-validation"
   ]
  },
  {
   "cell_type": "code",
   "execution_count": 14,
   "metadata": {},
   "outputs": [
    {
     "data": {
      "text/plain": [
       "{'mean_fit_time': array([0.0032948 , 0.00279293, 0.00259252, 0.00219498, 0.00179648,\n",
       "        0.0015964 , 0.00139637, 0.00458794, 0.00259418, 0.00259247,\n",
       "        0.00139623, 0.00159583, 0.00179591, 0.00179482, 0.00219321,\n",
       "        0.00179529, 0.00179505, 0.00219312, 0.00398998, 0.0053863 ]),\n",
       " 'std_fit_time': array([0.00059353, 0.00039964, 0.00048975, 0.0009759 , 0.00039899,\n",
       "        0.00049043, 0.00049051, 0.0022393 , 0.00048674, 0.00048708,\n",
       "        0.00048906, 0.00048918, 0.00074735, 0.00074737, 0.00146634,\n",
       "        0.00159597, 0.00074565, 0.00097706, 0.0020944 , 0.00421353]),\n",
       " 'mean_score_time': array([0.01755352, 0.00718098, 0.00839348, 0.00398831, 0.0053853 ,\n",
       "        0.00378962, 0.00418882, 0.00837622, 0.0091754 , 0.00618348,\n",
       "        0.00777917, 0.00379004, 0.00757976, 0.00359049, 0.00598445,\n",
       "        0.00359063, 0.00538626, 0.00518751, 0.01606064, 0.01097045]),\n",
       " 'std_score_time': array([0.00522459, 0.00291715, 0.00080919, 0.00141138, 0.00135373,\n",
       "        0.00212936, 0.00074603, 0.00299849, 0.00171648, 0.0022213 ,\n",
       "        0.00159661, 0.00116428, 0.00101757, 0.00101601, 0.00260096,\n",
       "        0.00135396, 0.00119689, 0.0033626 , 0.00900117, 0.00738256]),\n",
       " 'param_n_neighbors': masked_array(data=[1, 1, 2, 2, 3, 3, 4, 4, 5, 5, 6, 6, 7, 7, 8, 8, 9, 9,\n",
       "                    10, 10],\n",
       "              mask=[False, False, False, False, False, False, False, False,\n",
       "                    False, False, False, False, False, False, False, False,\n",
       "                    False, False, False, False],\n",
       "        fill_value='?',\n",
       "             dtype=object),\n",
       " 'param_weights': masked_array(data=['uniform', 'distance', 'uniform', 'distance',\n",
       "                    'uniform', 'distance', 'uniform', 'distance',\n",
       "                    'uniform', 'distance', 'uniform', 'distance',\n",
       "                    'uniform', 'distance', 'uniform', 'distance',\n",
       "                    'uniform', 'distance', 'uniform', 'distance'],\n",
       "              mask=[False, False, False, False, False, False, False, False,\n",
       "                    False, False, False, False, False, False, False, False,\n",
       "                    False, False, False, False],\n",
       "        fill_value='?',\n",
       "             dtype=object),\n",
       " 'params': [{'n_neighbors': 1, 'weights': 'uniform'},\n",
       "  {'n_neighbors': 1, 'weights': 'distance'},\n",
       "  {'n_neighbors': 2, 'weights': 'uniform'},\n",
       "  {'n_neighbors': 2, 'weights': 'distance'},\n",
       "  {'n_neighbors': 3, 'weights': 'uniform'},\n",
       "  {'n_neighbors': 3, 'weights': 'distance'},\n",
       "  {'n_neighbors': 4, 'weights': 'uniform'},\n",
       "  {'n_neighbors': 4, 'weights': 'distance'},\n",
       "  {'n_neighbors': 5, 'weights': 'uniform'},\n",
       "  {'n_neighbors': 5, 'weights': 'distance'},\n",
       "  {'n_neighbors': 6, 'weights': 'uniform'},\n",
       "  {'n_neighbors': 6, 'weights': 'distance'},\n",
       "  {'n_neighbors': 7, 'weights': 'uniform'},\n",
       "  {'n_neighbors': 7, 'weights': 'distance'},\n",
       "  {'n_neighbors': 8, 'weights': 'uniform'},\n",
       "  {'n_neighbors': 8, 'weights': 'distance'},\n",
       "  {'n_neighbors': 9, 'weights': 'uniform'},\n",
       "  {'n_neighbors': 9, 'weights': 'distance'},\n",
       "  {'n_neighbors': 10, 'weights': 'uniform'},\n",
       "  {'n_neighbors': 10, 'weights': 'distance'}],\n",
       " 'split0_test_score': array([0.91304348, 0.91304348, 0.86956522, 0.91304348, 0.91304348,\n",
       "        0.91304348, 0.91304348, 0.91304348, 0.91304348, 0.91304348,\n",
       "        0.82608696, 0.91304348, 0.86956522, 0.91304348, 0.82608696,\n",
       "        0.91304348, 0.82608696, 0.91304348, 0.82608696, 0.91304348]),\n",
       " 'split1_test_score': array([0.91304348, 0.91304348, 0.91304348, 0.91304348, 0.95652174,\n",
       "        0.95652174, 0.95652174, 0.95652174, 0.95652174, 0.95652174,\n",
       "        0.95652174, 0.95652174, 0.95652174, 0.95652174, 0.95652174,\n",
       "        0.95652174, 0.95652174, 0.95652174, 0.95652174, 0.95652174]),\n",
       " 'split2_test_score': array([0.95454545, 0.95454545, 0.90909091, 0.95454545, 0.95454545,\n",
       "        0.95454545, 0.95454545, 0.95454545, 0.95454545, 0.95454545,\n",
       "        1.        , 0.95454545, 1.        , 0.95454545, 1.        ,\n",
       "        0.95454545, 1.        , 0.95454545, 1.        , 0.95454545]),\n",
       " 'split3_test_score': array([0.95454545, 0.95454545, 0.90909091, 0.95454545, 0.95454545,\n",
       "        0.95454545, 0.90909091, 0.95454545, 0.86363636, 0.90909091,\n",
       "        0.86363636, 0.86363636, 0.86363636, 0.90909091, 0.90909091,\n",
       "        0.90909091, 0.90909091, 0.90909091, 0.90909091, 0.90909091]),\n",
       " 'split4_test_score': array([0.95454545, 0.95454545, 0.95454545, 0.95454545, 0.95454545,\n",
       "        0.95454545, 0.95454545, 0.95454545, 1.        , 1.        ,\n",
       "        0.95454545, 0.95454545, 0.95454545, 0.95454545, 0.95454545,\n",
       "        0.95454545, 0.95454545, 0.95454545, 0.95454545, 0.95454545]),\n",
       " 'mean_test_score': array([0.93794466, 0.93794466, 0.91106719, 0.93794466, 0.94664032,\n",
       "        0.94664032, 0.93754941, 0.94664032, 0.93754941, 0.94664032,\n",
       "        0.9201581 , 0.9284585 , 0.92885375, 0.93754941, 0.92924901,\n",
       "        0.93754941, 0.92924901, 0.93754941, 0.92924901, 0.93754941]),\n",
       " 'std_test_score': array([0.02033173, 0.02033173, 0.02692393, 0.02033173, 0.01681585,\n",
       "        0.01681585, 0.02167075, 0.01681585, 0.04607075, 0.03330494,\n",
       "        0.06468944, 0.03629914, 0.05339627, 0.02167075, 0.0590562 ,\n",
       "        0.02167075, 0.0590562 , 0.02167075, 0.0590562 , 0.02167075]),\n",
       " 'rank_test_score': array([ 5,  5, 20,  5,  1,  1,  8,  1,  8,  1, 19, 18, 17,  8, 14,  8, 14,\n",
       "         8, 14,  8])}"
      ]
     },
     "execution_count": 14,
     "metadata": {},
     "output_type": "execute_result"
    }
   ],
   "source": [
    "#grid_search.grid_scores_\n",
    "grid_search.cv_results_"
   ]
  },
  {
   "cell_type": "markdown",
   "metadata": {},
   "source": [
    "# Nested cross-validation with grid-search"
   ]
  },
  {
   "cell_type": "code",
   "execution_count": 19,
   "metadata": {},
   "outputs": [
    {
     "name": "stdout",
     "output_type": "stream",
     "text": [
      "Cross-validation scores:  [0.96666667 1.         0.96666667 0.93333333 1.        ]\n",
      "Mean cross-validation score:  0.9733333333333334\n"
     ]
    }
   ],
   "source": [
    "scores = cross_val_score(GridSearchCV(KNeighborsClassifier(), param_grid, cv=5), iris.data, iris.target, cv=5)\n",
    "print(\"Cross-validation scores: \", scores)\n",
    "print(\"Mean cross-validation score: \", scores.mean())"
   ]
  },
  {
   "cell_type": "markdown",
   "metadata": {},
   "source": [
    "# Use following algorithm to train and test"
   ]
  },
  {
   "cell_type": "code",
   "execution_count": null,
   "metadata": {},
   "outputs": [],
   "source": [
    "from sklearn.tree import DecisionTreeClassifier\n",
    "from sklearn.naive_bayes import GaussianNB\n",
    "from sklearn.linear_model import LogisticRegression\n"
   ]
  }
 ],
 "metadata": {
  "kernelspec": {
   "display_name": "Python 3",
   "language": "python",
   "name": "python3"
  },
  "language_info": {
   "codemirror_mode": {
    "name": "ipython",
    "version": 3
   },
   "file_extension": ".py",
   "mimetype": "text/x-python",
   "name": "python",
   "nbconvert_exporter": "python",
   "pygments_lexer": "ipython3",
   "version": "3.8.3"
  }
 },
 "nbformat": 4,
 "nbformat_minor": 2
}
